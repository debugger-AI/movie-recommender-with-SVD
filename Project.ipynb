{
 "cells": [
  {
   "cell_type": "code",
   "execution_count": 1,
   "id": "c3328a13-81ae-4a47-bfcf-683d6b28e2df",
   "metadata": {},
   "outputs": [],
   "source": [
    "import pandas as pd\n",
    "import numpy as np\n",
    "import seaborn as sns\n",
    "import matplotlib.pyplot as plt"
   ]
  },
  {
   "cell_type": "code",
   "execution_count": 6,
   "id": "80c9f54e-5e2f-41bc-9b57-1e44e18720ce",
   "metadata": {},
   "outputs": [
    {
     "data": {
      "text/html": [
       "<div>\n",
       "<style scoped>\n",
       "    .dataframe tbody tr th:only-of-type {\n",
       "        vertical-align: middle;\n",
       "    }\n",
       "\n",
       "    .dataframe tbody tr th {\n",
       "        vertical-align: top;\n",
       "    }\n",
       "\n",
       "    .dataframe thead th {\n",
       "        text-align: right;\n",
       "    }\n",
       "</style>\n",
       "<table border=\"1\" class=\"dataframe\">\n",
       "  <thead>\n",
       "    <tr style=\"text-align: right;\">\n",
       "      <th></th>\n",
       "      <th>Unnamed: 0</th>\n",
       "      <th>User_Id</th>\n",
       "      <th>Movie_Name</th>\n",
       "      <th>Rating</th>\n",
       "      <th>Genre</th>\n",
       "    </tr>\n",
       "  </thead>\n",
       "  <tbody>\n",
       "    <tr>\n",
       "      <th>0</th>\n",
       "      <td>0</td>\n",
       "      <td>1</td>\n",
       "      <td>Pulp Fiction (1994)</td>\n",
       "      <td>5.0</td>\n",
       "      <td>Comedy|Crime|Drama|Thriller</td>\n",
       "    </tr>\n",
       "    <tr>\n",
       "      <th>1</th>\n",
       "      <td>1</td>\n",
       "      <td>1</td>\n",
       "      <td>Three Colors: Red (Trois couleurs: Rouge) (1994)</td>\n",
       "      <td>3.5</td>\n",
       "      <td>Drama</td>\n",
       "    </tr>\n",
       "    <tr>\n",
       "      <th>2</th>\n",
       "      <td>2</td>\n",
       "      <td>1</td>\n",
       "      <td>Three Colors: Blue (Trois couleurs: Bleu) (1993)</td>\n",
       "      <td>5.0</td>\n",
       "      <td>Drama</td>\n",
       "    </tr>\n",
       "    <tr>\n",
       "      <th>3</th>\n",
       "      <td>3</td>\n",
       "      <td>1</td>\n",
       "      <td>Underground (1995)</td>\n",
       "      <td>5.0</td>\n",
       "      <td>Comedy|Drama|War</td>\n",
       "    </tr>\n",
       "    <tr>\n",
       "      <th>4</th>\n",
       "      <td>4</td>\n",
       "      <td>1</td>\n",
       "      <td>Singin' in the Rain (1952)</td>\n",
       "      <td>3.5</td>\n",
       "      <td>Comedy|Musical|Romance</td>\n",
       "    </tr>\n",
       "  </tbody>\n",
       "</table>\n",
       "</div>"
      ],
      "text/plain": [
       "   Unnamed: 0  User_Id                                        Movie_Name  \\\n",
       "0           0        1                               Pulp Fiction (1994)   \n",
       "1           1        1  Three Colors: Red (Trois couleurs: Rouge) (1994)   \n",
       "2           2        1  Three Colors: Blue (Trois couleurs: Bleu) (1993)   \n",
       "3           3        1                                Underground (1995)   \n",
       "4           4        1                        Singin' in the Rain (1952)   \n",
       "\n",
       "   Rating                        Genre  \n",
       "0     5.0  Comedy|Crime|Drama|Thriller  \n",
       "1     3.5                        Drama  \n",
       "2     5.0                        Drama  \n",
       "3     5.0             Comedy|Drama|War  \n",
       "4     3.5       Comedy|Musical|Romance  "
      ]
     },
     "execution_count": 6,
     "metadata": {},
     "output_type": "execute_result"
    }
   ],
   "source": [
    "data = pd.read_csv('C:/Users/Admin/Downloads/movies_dataset.csv')\n",
    "data.head()"
   ]
  },
  {
   "cell_type": "code",
   "execution_count": 32,
   "id": "4e187dff",
   "metadata": {},
   "outputs": [
    {
     "data": {
      "text/plain": [
       "(25000095, 4)"
      ]
     },
     "execution_count": 32,
     "metadata": {},
     "output_type": "execute_result"
    }
   ],
   "source": [
    "data.shape"
   ]
  },
  {
   "cell_type": "markdown",
   "id": "b1443c0e",
   "metadata": {},
   "source": [
    "## Exploratory Data Analysis"
   ]
  },
  {
   "cell_type": "code",
   "execution_count": 7,
   "id": "f381202c-f5ef-4f1f-adc6-282970ead200",
   "metadata": {},
   "outputs": [
    {
     "data": {
      "image/png": "[encoded data removed]",
      "text/plain": [
       "<Figure size 640x480 with 1 Axes>"
      ]
     },
     "metadata": {},
     "output_type": "display_data"
    }
   ],
   "source": [
    "plt.hist(data['Rating'])\n",
    "\n",
    "# Add labels and title\n",
    "plt.xlabel('Rating')\n",
    "plt.ylabel('Frequency')\n",
    "plt.title('Dstribution of Ratings')\n",
    "\n",
    "# Show the plot\n",
    "plt.show()"
   ]
  },
  {
   "cell_type": "code",
   "execution_count": 8,
   "id": "fbb5d1c5-12f2-44b6-ba4b-0ee27d67e243",
   "metadata": {},
   "outputs": [],
   "source": [
    "data = data.drop('Unnamed: 0', axis=1)"
   ]
  },
  {
   "cell_type": "code",
   "execution_count": 9,
   "id": "dbf944ad-70e3-49a0-869f-21ac4ddb3277",
   "metadata": {},
   "outputs": [],
   "source": [
    "subset = data.iloc[0:1_000_000]"
   ]
  },
  {
   "cell_type": "code",
   "execution_count": 10,
   "id": "740f02e7",
   "metadata": {},
   "outputs": [
    {
     "data": {
      "text/plain": [
       "(1000000, 4)"
      ]
     },
     "execution_count": 10,
     "metadata": {},
     "output_type": "execute_result"
    }
   ],
   "source": [
    "subset.shape"
   ]
  },
  {
   "cell_type": "code",
   "execution_count": 11,
   "id": "e75d4825-1da6-4a5c-a24d-5f8a208831fe",
   "metadata": {},
   "outputs": [
    {
     "data": {
      "text/html": [
       "<div>\n",
       "<style scoped>\n",
       "    .dataframe tbody tr th:only-of-type {\n",
       "        vertical-align: middle;\n",
       "    }\n",
       "\n",
       "    .dataframe tbody tr th {\n",
       "        vertical-align: top;\n",
       "    }\n",
       "\n",
       "    .dataframe thead th {\n",
       "        text-align: right;\n",
       "    }\n",
       "</style>\n",
       "<table border=\"1\" class=\"dataframe\">\n",
       "  <thead>\n",
       "    <tr style=\"text-align: right;\">\n",
       "      <th></th>\n",
       "      <th>User_Id</th>\n",
       "      <th>Movie_Name</th>\n",
       "      <th>Rating</th>\n",
       "      <th>Genre</th>\n",
       "    </tr>\n",
       "  </thead>\n",
       "  <tbody>\n",
       "    <tr>\n",
       "      <th>0</th>\n",
       "      <td>1</td>\n",
       "      <td>Pulp Fiction (1994)</td>\n",
       "      <td>5.0</td>\n",
       "      <td>Comedy|Crime|Drama|Thriller</td>\n",
       "    </tr>\n",
       "    <tr>\n",
       "      <th>1</th>\n",
       "      <td>1</td>\n",
       "      <td>Three Colors: Red (Trois couleurs: Rouge) (1994)</td>\n",
       "      <td>3.5</td>\n",
       "      <td>Drama</td>\n",
       "    </tr>\n",
       "    <tr>\n",
       "      <th>2</th>\n",
       "      <td>1</td>\n",
       "      <td>Three Colors: Blue (Trois couleurs: Bleu) (1993)</td>\n",
       "      <td>5.0</td>\n",
       "      <td>Drama</td>\n",
       "    </tr>\n",
       "    <tr>\n",
       "      <th>3</th>\n",
       "      <td>1</td>\n",
       "      <td>Underground (1995)</td>\n",
       "      <td>5.0</td>\n",
       "      <td>Comedy|Drama|War</td>\n",
       "    </tr>\n",
       "    <tr>\n",
       "      <th>4</th>\n",
       "      <td>1</td>\n",
       "      <td>Singin' in the Rain (1952)</td>\n",
       "      <td>3.5</td>\n",
       "      <td>Comedy|Musical|Romance</td>\n",
       "    </tr>\n",
       "  </tbody>\n",
       "</table>\n",
       "</div>"
      ],
      "text/plain": [
       "   User_Id                                        Movie_Name  Rating  \\\n",
       "0        1                               Pulp Fiction (1994)     5.0   \n",
       "1        1  Three Colors: Red (Trois couleurs: Rouge) (1994)     3.5   \n",
       "2        1  Three Colors: Blue (Trois couleurs: Bleu) (1993)     5.0   \n",
       "3        1                                Underground (1995)     5.0   \n",
       "4        1                        Singin' in the Rain (1952)     3.5   \n",
       "\n",
       "                         Genre  \n",
       "0  Comedy|Crime|Drama|Thriller  \n",
       "1                        Drama  \n",
       "2                        Drama  \n",
       "3             Comedy|Drama|War  \n",
       "4       Comedy|Musical|Romance  "
      ]
     },
     "execution_count": 11,
     "metadata": {},
     "output_type": "execute_result"
    }
   ],
   "source": [
    "subset.head()"
   ]
  },
  {
   "cell_type": "code",
   "execution_count": 12,
   "id": "18db5cde-75d6-4c8d-b278-980fc4e046bd",
   "metadata": {},
   "outputs": [
    {
     "data": {
      "image/png": "[encoded data removed]",
      "text/plain": [
       "<Figure size 640x480 with 1 Axes>"
      ]
     },
     "metadata": {},
     "output_type": "display_data"
    }
   ],
   "source": [
    "plt.hist(subset['Rating'])\n",
    "\n",
    "# Add labels and title\n",
    "plt.xlabel('Rating')\n",
    "plt.ylabel('Frequency')\n",
    "plt.title('Dstribution of Ratings in Subset Data')\n",
    "\n",
    "# Show the plot\n",
    "plt.show()"
   ]
  },
  {
   "cell_type": "code",
   "execution_count": 13,
   "id": "5dc1e680-1a86-46dc-aee2-f7c161439513",
   "metadata": {},
   "outputs": [
    {
     "name": "stdout",
     "output_type": "stream",
     "text": [
      "Set of all genres available in the dataset: \n",
      "{'(no genres listed)', 'Crime', 'Musical', 'Children', 'Fantasy', 'Film-Noir', 'Documentary', 'Romance', 'IMAX', 'Action', 'Horror', 'Thriller', 'Drama', 'Comedy', 'Sci-Fi', 'Animation', 'Mystery', 'Western', 'War', 'Adventure'}\n"
     ]
    }
   ],
   "source": [
    "# Extract all unique genres\n",
    "all_genres = set()\n",
    "for genres in data['Genre']:\n",
    "    all_genres.update(genres.split('|'))\n",
    "\n",
    "# Print all unique genres\n",
    "print(\"Set of all genres available in the dataset: \")\n",
    "print(all_genres)"
   ]
  },
  {
   "cell_type": "code",
   "execution_count": 14,
   "id": "fb6e462d-2886-4fe2-8650-52a78ff50e56",
   "metadata": {},
   "outputs": [
    {
     "name": "stdout",
     "output_type": "stream",
     "text": [
      "Set of all genres available in the subset dataset: \n",
      "{'(no genres listed)', 'Crime', 'Musical', 'Children', 'Fantasy', 'Film-Noir', 'Documentary', 'Romance', 'IMAX', 'Action', 'Horror', 'Thriller', 'Drama', 'Comedy', 'Sci-Fi', 'Animation', 'Mystery', 'Western', 'War', 'Adventure'}\n"
     ]
    }
   ],
   "source": [
    "# Extract all unique genres\n",
    "all_genres = set()\n",
    "for genres in subset['Genre']:\n",
    "    all_genres.update(genres.split('|'))\n",
    "\n",
    "# Print all unique genres\n",
    "print(\"Set of all genres available in the subset dataset: \")\n",
    "print(all_genres)"
   ]
  },
  {
   "cell_type": "markdown",
   "id": "3e786310-4e5a-40ae-a21e-4ad40ad5a9a2",
   "metadata": {},
   "source": [
    "- We have captured all the genres in the `subset` data from the whole `data`. \n",
    "- From the genres column we can also see there are invalid values in the `'Genre'` column which is `'(no genres listed)'`."
   ]
  },
  {
   "cell_type": "code",
   "execution_count": 15,
   "id": "abb9eeb9-bdf9-4963-aff7-1614b12919b7",
   "metadata": {},
   "outputs": [],
   "source": [
    "# Drop rows where genre is \"(no genres listed)\"\n",
    "subset = subset[subset['Genre'] != '(no genres listed)']"
   ]
  },
  {
   "cell_type": "markdown",
   "id": "da4edbe5",
   "metadata": {},
   "source": [
    "Since some movies have more than one genre, we can create new columns in the data for each genre present in the `all_genres` set. These new columns will have binary values indicating whether a movie belongs to a particular genre or not."
   ]
  },
  {
   "cell_type": "code",
   "execution_count": 16,
   "id": "aaeb83a4",
   "metadata": {},
   "outputs": [],
   "source": [
    "all_genres = { 'Action', 'Adventure', 'Animation', 'Children', 'Comedy','Crime', 'Documentary', 'Drama', 'Fantasy', 'Film-Noir',\n",
    "              'Horror', 'IMAX', 'Musical', 'Mystery', 'Romance', 'Sci-Fi', 'Thriller', 'War', 'Western'}"
   ]
  },
  {
   "cell_type": "code",
   "execution_count": 17,
   "id": "37797532",
   "metadata": {},
   "outputs": [],
   "source": [
    "# Create new columns for each genre and assign values of 1 or 0\n",
    "for genre in all_genres:\n",
    "    subset[genre] = subset['Genre'].apply(lambda x: 1 if genre in x else 0)"
   ]
  },
  {
   "cell_type": "code",
   "execution_count": 18,
   "id": "6b7096a9",
   "metadata": {},
   "outputs": [
    {
     "data": {
      "text/html": [
       "<div>\n",
       "<style scoped>\n",
       "    .dataframe tbody tr th:only-of-type {\n",
       "        vertical-align: middle;\n",
       "    }\n",
       "\n",
       "    .dataframe tbody tr th {\n",
       "        vertical-align: top;\n",
       "    }\n",
       "\n",
       "    .dataframe thead th {\n",
       "        text-align: right;\n",
       "    }\n",
       "</style>\n",
       "<table border=\"1\" class=\"dataframe\">\n",
       "  <thead>\n",
       "    <tr style=\"text-align: right;\">\n",
       "      <th></th>\n",
       "      <th>User_Id</th>\n",
       "      <th>Movie_Name</th>\n",
       "      <th>Rating</th>\n",
       "      <th>Genre</th>\n",
       "      <th>IMAX</th>\n",
       "      <th>Action</th>\n",
       "      <th>Horror</th>\n",
       "      <th>Thriller</th>\n",
       "      <th>Drama</th>\n",
       "      <th>Crime</th>\n",
       "      <th>...</th>\n",
       "      <th>Fantasy</th>\n",
       "      <th>Sci-Fi</th>\n",
       "      <th>Animation</th>\n",
       "      <th>Film-Noir</th>\n",
       "      <th>Mystery</th>\n",
       "      <th>Western</th>\n",
       "      <th>Documentary</th>\n",
       "      <th>War</th>\n",
       "      <th>Adventure</th>\n",
       "      <th>Romance</th>\n",
       "    </tr>\n",
       "  </thead>\n",
       "  <tbody>\n",
       "    <tr>\n",
       "      <th>0</th>\n",
       "      <td>1</td>\n",
       "      <td>Pulp Fiction (1994)</td>\n",
       "      <td>5.0</td>\n",
       "      <td>Comedy|Crime|Drama|Thriller</td>\n",
       "      <td>0</td>\n",
       "      <td>0</td>\n",
       "      <td>0</td>\n",
       "      <td>1</td>\n",
       "      <td>1</td>\n",
       "      <td>1</td>\n",
       "      <td>...</td>\n",
       "      <td>0</td>\n",
       "      <td>0</td>\n",
       "      <td>0</td>\n",
       "      <td>0</td>\n",
       "      <td>0</td>\n",
       "      <td>0</td>\n",
       "      <td>0</td>\n",
       "      <td>0</td>\n",
       "      <td>0</td>\n",
       "      <td>0</td>\n",
       "    </tr>\n",
       "    <tr>\n",
       "      <th>1</th>\n",
       "      <td>1</td>\n",
       "      <td>Three Colors: Red (Trois couleurs: Rouge) (1994)</td>\n",
       "      <td>3.5</td>\n",
       "      <td>Drama</td>\n",
       "      <td>0</td>\n",
       "      <td>0</td>\n",
       "      <td>0</td>\n",
       "      <td>0</td>\n",
       "      <td>1</td>\n",
       "      <td>0</td>\n",
       "      <td>...</td>\n",
       "      <td>0</td>\n",
       "      <td>0</td>\n",
       "      <td>0</td>\n",
       "      <td>0</td>\n",
       "      <td>0</td>\n",
       "      <td>0</td>\n",
       "      <td>0</td>\n",
       "      <td>0</td>\n",
       "      <td>0</td>\n",
       "      <td>0</td>\n",
       "    </tr>\n",
       "    <tr>\n",
       "      <th>2</th>\n",
       "      <td>1</td>\n",
       "      <td>Three Colors: Blue (Trois couleurs: Bleu) (1993)</td>\n",
       "      <td>5.0</td>\n",
       "      <td>Drama</td>\n",
       "      <td>0</td>\n",
       "      <td>0</td>\n",
       "      <td>0</td>\n",
       "      <td>0</td>\n",
       "      <td>1</td>\n",
       "      <td>0</td>\n",
       "      <td>...</td>\n",
       "      <td>0</td>\n",
       "      <td>0</td>\n",
       "      <td>0</td>\n",
       "      <td>0</td>\n",
       "      <td>0</td>\n",
       "      <td>0</td>\n",
       "      <td>0</td>\n",
       "      <td>0</td>\n",
       "      <td>0</td>\n",
       "      <td>0</td>\n",
       "    </tr>\n",
       "    <tr>\n",
       "      <th>3</th>\n",
       "      <td>1</td>\n",
       "      <td>Underground (1995)</td>\n",
       "      <td>5.0</td>\n",
       "      <td>Comedy|Drama|War</td>\n",
       "      <td>0</td>\n",
       "      <td>0</td>\n",
       "      <td>0</td>\n",
       "      <td>0</td>\n",
       "      <td>1</td>\n",
       "      <td>0</td>\n",
       "      <td>...</td>\n",
       "      <td>0</td>\n",
       "      <td>0</td>\n",
       "      <td>0</td>\n",
       "      <td>0</td>\n",
       "      <td>0</td>\n",
       "      <td>0</td>\n",
       "      <td>0</td>\n",
       "      <td>1</td>\n",
       "      <td>0</td>\n",
       "      <td>0</td>\n",
       "    </tr>\n",
       "    <tr>\n",
       "      <th>4</th>\n",
       "      <td>1</td>\n",
       "      <td>Singin' in the Rain (1952)</td>\n",
       "      <td>3.5</td>\n",
       "      <td>Comedy|Musical|Romance</td>\n",
       "      <td>0</td>\n",
       "      <td>0</td>\n",
       "      <td>0</td>\n",
       "      <td>0</td>\n",
       "      <td>0</td>\n",
       "      <td>0</td>\n",
       "      <td>...</td>\n",
       "      <td>0</td>\n",
       "      <td>0</td>\n",
       "      <td>0</td>\n",
       "      <td>0</td>\n",
       "      <td>0</td>\n",
       "      <td>0</td>\n",
       "      <td>0</td>\n",
       "      <td>0</td>\n",
       "      <td>0</td>\n",
       "      <td>1</td>\n",
       "    </tr>\n",
       "  </tbody>\n",
       "</table>\n",
       "<p>5 rows × 23 columns</p>\n",
       "</div>"
      ],
      "text/plain": [
       "   User_Id                                        Movie_Name  Rating  \\\n",
       "0        1                               Pulp Fiction (1994)     5.0   \n",
       "1        1  Three Colors: Red (Trois couleurs: Rouge) (1994)     3.5   \n",
       "2        1  Three Colors: Blue (Trois couleurs: Bleu) (1993)     5.0   \n",
       "3        1                                Underground (1995)     5.0   \n",
       "4        1                        Singin' in the Rain (1952)     3.5   \n",
       "\n",
       "                         Genre  IMAX  Action  Horror  Thriller  Drama  Crime  \\\n",
       "0  Comedy|Crime|Drama|Thriller     0       0       0         1      1      1   \n",
       "1                        Drama     0       0       0         0      1      0   \n",
       "2                        Drama     0       0       0         0      1      0   \n",
       "3             Comedy|Drama|War     0       0       0         0      1      0   \n",
       "4       Comedy|Musical|Romance     0       0       0         0      0      0   \n",
       "\n",
       "   ...  Fantasy  Sci-Fi  Animation  Film-Noir  Mystery  Western  Documentary  \\\n",
       "0  ...        0       0          0          0        0        0            0   \n",
       "1  ...        0       0          0          0        0        0            0   \n",
       "2  ...        0       0          0          0        0        0            0   \n",
       "3  ...        0       0          0          0        0        0            0   \n",
       "4  ...        0       0          0          0        0        0            0   \n",
       "\n",
       "   War  Adventure  Romance  \n",
       "0    0          0        0  \n",
       "1    0          0        0  \n",
       "2    0          0        0  \n",
       "3    1          0        0  \n",
       "4    0          0        1  \n",
       "\n",
       "[5 rows x 23 columns]"
      ]
     },
     "execution_count": 18,
     "metadata": {},
     "output_type": "execute_result"
    }
   ],
   "source": [
    "subset.head()"
   ]
  },
  {
   "cell_type": "code",
   "execution_count": 67,
   "id": "ecbe492f",
   "metadata": {},
   "outputs": [],
   "source": [
    "# create a mapping of unique movie names to movie IDs\n",
    "movies = subset[\"Movie_Name\"].unique()\n",
    "movie_to_id = {}\n",
    "for i, movie in enumerate(movies):\n",
    "    movie_to_id[movie] = i\n",
    "\n",
    "# create the Movie_Id column based on the mapping\n",
    "subset[\"Movie_Id\"] = subset[\"Movie_Name\"].map(movie_to_id)"
   ]
  },
  {
   "cell_type": "code",
   "execution_count": 68,
   "id": "fcd6fb3d",
   "metadata": {},
   "outputs": [
    {
     "data": {
      "text/plain": [
       "Index(['User_Id', 'Movie_Name', 'Rating', 'Genre', 'IMAX', 'Action', 'Horror',\n",
       "       'Thriller', 'Drama', 'Crime', 'Musical', 'Comedy', 'Children',\n",
       "       'Fantasy', 'Sci-Fi', 'Animation', 'Film-Noir', 'Mystery', 'Western',\n",
       "       'Documentary', 'War', 'Adventure', 'Romance', 'Release_Date',\n",
       "       'Movie_Id'],\n",
       "      dtype='object')"
      ]
     },
     "execution_count": 68,
     "metadata": {},
     "output_type": "execute_result"
    }
   ],
   "source": [
    "subset.columns"
   ]
  },
  {
   "cell_type": "code",
   "execution_count": 69,
   "id": "7bbde21e",
   "metadata": {},
   "outputs": [
    {
     "name": "stdout",
     "output_type": "stream",
     "text": [
      "<class 'pandas.core.frame.DataFrame'>\n",
      "Int64Index: 998727 entries, 0 to 999999\n",
      "Data columns (total 25 columns):\n",
      " #   Column        Non-Null Count   Dtype         \n",
      "---  ------        --------------   -----         \n",
      " 0   User_Id       998727 non-null  int64         \n",
      " 1   Movie_Name    998727 non-null  object        \n",
      " 2   Rating        998727 non-null  float64       \n",
      " 3   Genre         998727 non-null  object        \n",
      " 4   IMAX          998727 non-null  int64         \n",
      " 5   Action        998727 non-null  int64         \n",
      " 6   Horror        998727 non-null  int64         \n",
      " 7   Thriller      998727 non-null  int64         \n",
      " 8   Drama         998727 non-null  int64         \n",
      " 9   Crime         998727 non-null  int64         \n",
      " 10  Musical       998727 non-null  int64         \n",
      " 11  Comedy        998727 non-null  int64         \n",
      " 12  Children      998727 non-null  int64         \n",
      " 13  Fantasy       998727 non-null  int64         \n",
      " 14  Sci-Fi        998727 non-null  int64         \n",
      " 15  Animation     998727 non-null  int64         \n",
      " 16  Film-Noir     998727 non-null  int64         \n",
      " 17  Mystery       998727 non-null  int64         \n",
      " 18  Western       998727 non-null  int64         \n",
      " 19  Documentary   998727 non-null  int64         \n",
      " 20  War           998727 non-null  int64         \n",
      " 21  Adventure     998727 non-null  int64         \n",
      " 22  Romance       998727 non-null  int64         \n",
      " 23  Release_Date  998727 non-null  datetime64[ns]\n",
      " 24  Movie_Id      998727 non-null  int64         \n",
      "dtypes: datetime64[ns](1), float64(1), int64(21), object(2)\n",
      "memory usage: 230.4+ MB\n"
     ]
    }
   ],
   "source": [
    "subset.info()"
   ]
  },
  {
   "cell_type": "code",
   "execution_count": 21,
   "id": "5a687b56",
   "metadata": {},
   "outputs": [
    {
     "data": {
      "image/png": "[encoded data removed]",
      "text/plain": [
       "<Figure size 640x480 with 1 Axes>"
      ]
     },
     "metadata": {},
     "output_type": "display_data"
    }
   ],
   "source": [
    "# Get the counts of movies by genre\n",
    "genre_counts = subset.iloc[:,4:].sum()\n",
    "\n",
    "#Sort the genre counts in descending order\n",
    "sorted_counts = genre_counts.sort_values(ascending=False)\n",
    "\n",
    "# Create a bar chart of movie counts by genre\n",
    "plt.bar(sorted_counts.index, sorted_counts.values, color='blue', alpha=0.5)\n",
    "\n",
    "# Set the x-axis label\n",
    "plt.xlabel('Genres')\n",
    "\n",
    "# Set the y-axis label\n",
    "plt.ylabel('Count of Ratings')\n",
    "\n",
    "# Set the plot title\n",
    "plt.title('Number of Movie Ratings by Genre')\n",
    "\n",
    "# Rotate x-axis labels\n",
    "plt.xticks(rotation=90)\n",
    "\n",
    "# Display the plot\n",
    "plt.show()"
   ]
  },
  {
   "cell_type": "code",
   "execution_count": 70,
   "id": "ddec1868",
   "metadata": {},
   "outputs": [
    {
     "data": {
      "text/html": [
       "<div>\n",
       "<style scoped>\n",
       "    .dataframe tbody tr th:only-of-type {\n",
       "        vertical-align: middle;\n",
       "    }\n",
       "\n",
       "    .dataframe tbody tr th {\n",
       "        vertical-align: top;\n",
       "    }\n",
       "\n",
       "    .dataframe thead th {\n",
       "        text-align: right;\n",
       "    }\n",
       "</style>\n",
       "<table border=\"1\" class=\"dataframe\">\n",
       "  <thead>\n",
       "    <tr style=\"text-align: right;\">\n",
       "      <th></th>\n",
       "      <th>User_Id</th>\n",
       "      <th>Movie_Name</th>\n",
       "      <th>Rating</th>\n",
       "      <th>Genre</th>\n",
       "      <th>IMAX</th>\n",
       "      <th>Action</th>\n",
       "      <th>Horror</th>\n",
       "      <th>Thriller</th>\n",
       "      <th>Drama</th>\n",
       "      <th>Crime</th>\n",
       "      <th>...</th>\n",
       "      <th>Animation</th>\n",
       "      <th>Film-Noir</th>\n",
       "      <th>Mystery</th>\n",
       "      <th>Western</th>\n",
       "      <th>Documentary</th>\n",
       "      <th>War</th>\n",
       "      <th>Adventure</th>\n",
       "      <th>Romance</th>\n",
       "      <th>Release_Date</th>\n",
       "      <th>Movie_Id</th>\n",
       "    </tr>\n",
       "  </thead>\n",
       "  <tbody>\n",
       "    <tr>\n",
       "      <th>0</th>\n",
       "      <td>1</td>\n",
       "      <td>Pulp Fiction (1994)</td>\n",
       "      <td>5.0</td>\n",
       "      <td>Comedy|Crime|Drama|Thriller</td>\n",
       "      <td>0</td>\n",
       "      <td>0</td>\n",
       "      <td>0</td>\n",
       "      <td>1</td>\n",
       "      <td>1</td>\n",
       "      <td>1</td>\n",
       "      <td>...</td>\n",
       "      <td>0</td>\n",
       "      <td>0</td>\n",
       "      <td>0</td>\n",
       "      <td>0</td>\n",
       "      <td>0</td>\n",
       "      <td>0</td>\n",
       "      <td>0</td>\n",
       "      <td>0</td>\n",
       "      <td>1994-01-01</td>\n",
       "      <td>0</td>\n",
       "    </tr>\n",
       "    <tr>\n",
       "      <th>1</th>\n",
       "      <td>1</td>\n",
       "      <td>Three Colors: Red (Trois couleurs: Rouge) (1994)</td>\n",
       "      <td>3.5</td>\n",
       "      <td>Drama</td>\n",
       "      <td>0</td>\n",
       "      <td>0</td>\n",
       "      <td>0</td>\n",
       "      <td>0</td>\n",
       "      <td>1</td>\n",
       "      <td>0</td>\n",
       "      <td>...</td>\n",
       "      <td>0</td>\n",
       "      <td>0</td>\n",
       "      <td>0</td>\n",
       "      <td>0</td>\n",
       "      <td>0</td>\n",
       "      <td>0</td>\n",
       "      <td>0</td>\n",
       "      <td>0</td>\n",
       "      <td>1994-01-01</td>\n",
       "      <td>1</td>\n",
       "    </tr>\n",
       "    <tr>\n",
       "      <th>2</th>\n",
       "      <td>1</td>\n",
       "      <td>Three Colors: Blue (Trois couleurs: Bleu) (1993)</td>\n",
       "      <td>5.0</td>\n",
       "      <td>Drama</td>\n",
       "      <td>0</td>\n",
       "      <td>0</td>\n",
       "      <td>0</td>\n",
       "      <td>0</td>\n",
       "      <td>1</td>\n",
       "      <td>0</td>\n",
       "      <td>...</td>\n",
       "      <td>0</td>\n",
       "      <td>0</td>\n",
       "      <td>0</td>\n",
       "      <td>0</td>\n",
       "      <td>0</td>\n",
       "      <td>0</td>\n",
       "      <td>0</td>\n",
       "      <td>0</td>\n",
       "      <td>1993-01-01</td>\n",
       "      <td>2</td>\n",
       "    </tr>\n",
       "    <tr>\n",
       "      <th>3</th>\n",
       "      <td>1</td>\n",
       "      <td>Underground (1995)</td>\n",
       "      <td>5.0</td>\n",
       "      <td>Comedy|Drama|War</td>\n",
       "      <td>0</td>\n",
       "      <td>0</td>\n",
       "      <td>0</td>\n",
       "      <td>0</td>\n",
       "      <td>1</td>\n",
       "      <td>0</td>\n",
       "      <td>...</td>\n",
       "      <td>0</td>\n",
       "      <td>0</td>\n",
       "      <td>0</td>\n",
       "      <td>0</td>\n",
       "      <td>0</td>\n",
       "      <td>1</td>\n",
       "      <td>0</td>\n",
       "      <td>0</td>\n",
       "      <td>1995-01-01</td>\n",
       "      <td>3</td>\n",
       "    </tr>\n",
       "    <tr>\n",
       "      <th>4</th>\n",
       "      <td>1</td>\n",
       "      <td>Singin' in the Rain (1952)</td>\n",
       "      <td>3.5</td>\n",
       "      <td>Comedy|Musical|Romance</td>\n",
       "      <td>0</td>\n",
       "      <td>0</td>\n",
       "      <td>0</td>\n",
       "      <td>0</td>\n",
       "      <td>0</td>\n",
       "      <td>0</td>\n",
       "      <td>...</td>\n",
       "      <td>0</td>\n",
       "      <td>0</td>\n",
       "      <td>0</td>\n",
       "      <td>0</td>\n",
       "      <td>0</td>\n",
       "      <td>0</td>\n",
       "      <td>0</td>\n",
       "      <td>1</td>\n",
       "      <td>1952-01-01</td>\n",
       "      <td>4</td>\n",
       "    </tr>\n",
       "  </tbody>\n",
       "</table>\n",
       "<p>5 rows × 25 columns</p>\n",
       "</div>"
      ],
      "text/plain": [
       "   User_Id                                        Movie_Name  Rating  \\\n",
       "0        1                               Pulp Fiction (1994)     5.0   \n",
       "1        1  Three Colors: Red (Trois couleurs: Rouge) (1994)     3.5   \n",
       "2        1  Three Colors: Blue (Trois couleurs: Bleu) (1993)     5.0   \n",
       "3        1                                Underground (1995)     5.0   \n",
       "4        1                        Singin' in the Rain (1952)     3.5   \n",
       "\n",
       "                         Genre  IMAX  Action  Horror  Thriller  Drama  Crime  \\\n",
       "0  Comedy|Crime|Drama|Thriller     0       0       0         1      1      1   \n",
       "1                        Drama     0       0       0         0      1      0   \n",
       "2                        Drama     0       0       0         0      1      0   \n",
       "3             Comedy|Drama|War     0       0       0         0      1      0   \n",
       "4       Comedy|Musical|Romance     0       0       0         0      0      0   \n",
       "\n",
       "   ...  Animation  Film-Noir  Mystery  Western  Documentary  War  Adventure  \\\n",
       "0  ...          0          0        0        0            0    0          0   \n",
       "1  ...          0          0        0        0            0    0          0   \n",
       "2  ...          0          0        0        0            0    0          0   \n",
       "3  ...          0          0        0        0            0    1          0   \n",
       "4  ...          0          0        0        0            0    0          0   \n",
       "\n",
       "   Romance  Release_Date  Movie_Id  \n",
       "0        0    1994-01-01         0  \n",
       "1        0    1994-01-01         1  \n",
       "2        0    1993-01-01         2  \n",
       "3        0    1995-01-01         3  \n",
       "4        1    1952-01-01         4  \n",
       "\n",
       "[5 rows x 25 columns]"
      ]
     },
     "execution_count": 70,
     "metadata": {},
     "output_type": "execute_result"
    }
   ],
   "source": [
    "subset.head()"
   ]
  },
  {
   "cell_type": "markdown",
   "id": "a7a1ede4",
   "metadata": {},
   "source": [
    "We can also visualize the number of unique movies by Genre"
   ]
  },
  {
   "cell_type": "code",
   "execution_count": 22,
   "id": "991936e2",
   "metadata": {},
   "outputs": [
    {
     "data": {
      "image/png": "[encoded data removed]",
      "text/plain": [
       "<Figure size 640x480 with 1 Axes>"
      ]
     },
     "metadata": {},
     "output_type": "display_data"
    }
   ],
   "source": [
    "#Create a new copy of the dataset with only unique movies\n",
    "unique_movies_df = subset.drop_duplicates(subset=[\"Movie_Name\"])\n",
    "\n",
    "#Get the counts of movies by genre\n",
    "genre_counts = unique_movies_df.iloc[:,4:].sum()\n",
    "\n",
    "#Sort the genre counts in descending order\n",
    "sorted_counts = genre_counts.sort_values(ascending=False)\n",
    "\n",
    "# Create a bar chart of movie counts by genre\n",
    "plt.bar(sorted_counts.index, sorted_counts.values, color='blue', alpha=0.5)\n",
    "\n",
    "# Set the x-axis label\n",
    "plt.xlabel('Genres')\n",
    "\n",
    "# Set the y-axis label\n",
    "plt.ylabel('Count of Movies')\n",
    "\n",
    "# Set the plot title\n",
    "plt.title('Number of Unique Movies by Genre')\n",
    "\n",
    "# Rotate x-axis labels\n",
    "plt.xticks(rotation=90)\n",
    "\n",
    "# Display the plot\n",
    "plt.show()"
   ]
  },
  {
   "cell_type": "markdown",
   "id": "3dc77e43",
   "metadata": {},
   "source": [
    "We can the extract the movie year from the `Movie_Name` column to create a new feature called `Release_Date`."
   ]
  },
  {
   "cell_type": "code",
   "execution_count": 23,
   "id": "59c14f07",
   "metadata": {},
   "outputs": [],
   "source": [
    "subset['Release_Date'] = subset['Movie_Name'].str.extract('\\((\\d{4})\\)', expand=True)"
   ]
  },
  {
   "cell_type": "code",
   "execution_count": 24,
   "id": "7b007169",
   "metadata": {},
   "outputs": [
    {
     "data": {
      "text/html": [
       "<div>\n",
       "<style scoped>\n",
       "    .dataframe tbody tr th:only-of-type {\n",
       "        vertical-align: middle;\n",
       "    }\n",
       "\n",
       "    .dataframe tbody tr th {\n",
       "        vertical-align: top;\n",
       "    }\n",
       "\n",
       "    .dataframe thead th {\n",
       "        text-align: right;\n",
       "    }\n",
       "</style>\n",
       "<table border=\"1\" class=\"dataframe\">\n",
       "  <thead>\n",
       "    <tr style=\"text-align: right;\">\n",
       "      <th></th>\n",
       "      <th>User_Id</th>\n",
       "      <th>Movie_Name</th>\n",
       "      <th>Rating</th>\n",
       "      <th>Genre</th>\n",
       "      <th>IMAX</th>\n",
       "      <th>Action</th>\n",
       "      <th>Horror</th>\n",
       "      <th>Thriller</th>\n",
       "      <th>Drama</th>\n",
       "      <th>Crime</th>\n",
       "      <th>...</th>\n",
       "      <th>Sci-Fi</th>\n",
       "      <th>Animation</th>\n",
       "      <th>Film-Noir</th>\n",
       "      <th>Mystery</th>\n",
       "      <th>Western</th>\n",
       "      <th>Documentary</th>\n",
       "      <th>War</th>\n",
       "      <th>Adventure</th>\n",
       "      <th>Romance</th>\n",
       "      <th>Release_Date</th>\n",
       "    </tr>\n",
       "  </thead>\n",
       "  <tbody>\n",
       "    <tr>\n",
       "      <th>0</th>\n",
       "      <td>1</td>\n",
       "      <td>Pulp Fiction (1994)</td>\n",
       "      <td>5.0</td>\n",
       "      <td>Comedy|Crime|Drama|Thriller</td>\n",
       "      <td>0</td>\n",
       "      <td>0</td>\n",
       "      <td>0</td>\n",
       "      <td>1</td>\n",
       "      <td>1</td>\n",
       "      <td>1</td>\n",
       "      <td>...</td>\n",
       "      <td>0</td>\n",
       "      <td>0</td>\n",
       "      <td>0</td>\n",
       "      <td>0</td>\n",
       "      <td>0</td>\n",
       "      <td>0</td>\n",
       "      <td>0</td>\n",
       "      <td>0</td>\n",
       "      <td>0</td>\n",
       "      <td>1994</td>\n",
       "    </tr>\n",
       "    <tr>\n",
       "      <th>1</th>\n",
       "      <td>1</td>\n",
       "      <td>Three Colors: Red (Trois couleurs: Rouge) (1994)</td>\n",
       "      <td>3.5</td>\n",
       "      <td>Drama</td>\n",
       "      <td>0</td>\n",
       "      <td>0</td>\n",
       "      <td>0</td>\n",
       "      <td>0</td>\n",
       "      <td>1</td>\n",
       "      <td>0</td>\n",
       "      <td>...</td>\n",
       "      <td>0</td>\n",
       "      <td>0</td>\n",
       "      <td>0</td>\n",
       "      <td>0</td>\n",
       "      <td>0</td>\n",
       "      <td>0</td>\n",
       "      <td>0</td>\n",
       "      <td>0</td>\n",
       "      <td>0</td>\n",
       "      <td>1994</td>\n",
       "    </tr>\n",
       "    <tr>\n",
       "      <th>2</th>\n",
       "      <td>1</td>\n",
       "      <td>Three Colors: Blue (Trois couleurs: Bleu) (1993)</td>\n",
       "      <td>5.0</td>\n",
       "      <td>Drama</td>\n",
       "      <td>0</td>\n",
       "      <td>0</td>\n",
       "      <td>0</td>\n",
       "      <td>0</td>\n",
       "      <td>1</td>\n",
       "      <td>0</td>\n",
       "      <td>...</td>\n",
       "      <td>0</td>\n",
       "      <td>0</td>\n",
       "      <td>0</td>\n",
       "      <td>0</td>\n",
       "      <td>0</td>\n",
       "      <td>0</td>\n",
       "      <td>0</td>\n",
       "      <td>0</td>\n",
       "      <td>0</td>\n",
       "      <td>1993</td>\n",
       "    </tr>\n",
       "    <tr>\n",
       "      <th>3</th>\n",
       "      <td>1</td>\n",
       "      <td>Underground (1995)</td>\n",
       "      <td>5.0</td>\n",
       "      <td>Comedy|Drama|War</td>\n",
       "      <td>0</td>\n",
       "      <td>0</td>\n",
       "      <td>0</td>\n",
       "      <td>0</td>\n",
       "      <td>1</td>\n",
       "      <td>0</td>\n",
       "      <td>...</td>\n",
       "      <td>0</td>\n",
       "      <td>0</td>\n",
       "      <td>0</td>\n",
       "      <td>0</td>\n",
       "      <td>0</td>\n",
       "      <td>0</td>\n",
       "      <td>1</td>\n",
       "      <td>0</td>\n",
       "      <td>0</td>\n",
       "      <td>1995</td>\n",
       "    </tr>\n",
       "    <tr>\n",
       "      <th>4</th>\n",
       "      <td>1</td>\n",
       "      <td>Singin' in the Rain (1952)</td>\n",
       "      <td>3.5</td>\n",
       "      <td>Comedy|Musical|Romance</td>\n",
       "      <td>0</td>\n",
       "      <td>0</td>\n",
       "      <td>0</td>\n",
       "      <td>0</td>\n",
       "      <td>0</td>\n",
       "      <td>0</td>\n",
       "      <td>...</td>\n",
       "      <td>0</td>\n",
       "      <td>0</td>\n",
       "      <td>0</td>\n",
       "      <td>0</td>\n",
       "      <td>0</td>\n",
       "      <td>0</td>\n",
       "      <td>0</td>\n",
       "      <td>0</td>\n",
       "      <td>1</td>\n",
       "      <td>1952</td>\n",
       "    </tr>\n",
       "  </tbody>\n",
       "</table>\n",
       "<p>5 rows × 24 columns</p>\n",
       "</div>"
      ],
      "text/plain": [
       "   User_Id                                        Movie_Name  Rating  \\\n",
       "0        1                               Pulp Fiction (1994)     5.0   \n",
       "1        1  Three Colors: Red (Trois couleurs: Rouge) (1994)     3.5   \n",
       "2        1  Three Colors: Blue (Trois couleurs: Bleu) (1993)     5.0   \n",
       "3        1                                Underground (1995)     5.0   \n",
       "4        1                        Singin' in the Rain (1952)     3.5   \n",
       "\n",
       "                         Genre  IMAX  Action  Horror  Thriller  Drama  Crime  \\\n",
       "0  Comedy|Crime|Drama|Thriller     0       0       0         1      1      1   \n",
       "1                        Drama     0       0       0         0      1      0   \n",
       "2                        Drama     0       0       0         0      1      0   \n",
       "3             Comedy|Drama|War     0       0       0         0      1      0   \n",
       "4       Comedy|Musical|Romance     0       0       0         0      0      0   \n",
       "\n",
       "   ...  Sci-Fi  Animation  Film-Noir  Mystery  Western  Documentary  War  \\\n",
       "0  ...       0          0          0        0        0            0    0   \n",
       "1  ...       0          0          0        0        0            0    0   \n",
       "2  ...       0          0          0        0        0            0    0   \n",
       "3  ...       0          0          0        0        0            0    1   \n",
       "4  ...       0          0          0        0        0            0    0   \n",
       "\n",
       "   Adventure  Romance  Release_Date  \n",
       "0          0        0          1994  \n",
       "1          0        0          1994  \n",
       "2          0        0          1993  \n",
       "3          0        0          1995  \n",
       "4          0        1          1952  \n",
       "\n",
       "[5 rows x 24 columns]"
      ]
     },
     "execution_count": 24,
     "metadata": {},
     "output_type": "execute_result"
    }
   ],
   "source": [
    "subset.head()"
   ]
  },
  {
   "cell_type": "code",
   "execution_count": 25,
   "id": "7d662424",
   "metadata": {},
   "outputs": [
    {
     "data": {
      "text/plain": [
       "User_Id           0\n",
       "Movie_Name        0\n",
       "Rating            0\n",
       "Genre             0\n",
       "IMAX              0\n",
       "Action            0\n",
       "Horror            0\n",
       "Thriller          0\n",
       "Drama             0\n",
       "Crime             0\n",
       "Musical           0\n",
       "Comedy            0\n",
       "Children          0\n",
       "Fantasy           0\n",
       "Sci-Fi            0\n",
       "Animation         0\n",
       "Film-Noir         0\n",
       "Mystery           0\n",
       "Western           0\n",
       "Documentary       0\n",
       "War               0\n",
       "Adventure         0\n",
       "Romance           0\n",
       "Release_Date    360\n",
       "dtype: int64"
      ]
     },
     "execution_count": 25,
     "metadata": {},
     "output_type": "execute_result"
    }
   ],
   "source": [
    "subset.isnull().sum()"
   ]
  },
  {
   "cell_type": "code",
   "execution_count": 26,
   "id": "aa8c3ad4",
   "metadata": {},
   "outputs": [],
   "source": [
    "subset.dropna(subset=['Release_Date'], inplace=True)"
   ]
  },
  {
   "cell_type": "code",
   "execution_count": 27,
   "id": "17835bd9",
   "metadata": {},
   "outputs": [],
   "source": [
    "subset['Release_Date'] = pd.to_datetime(subset['Release_Date'], format='%Y')"
   ]
  },
  {
   "cell_type": "code",
   "execution_count": 28,
   "id": "36cdea09",
   "metadata": {},
   "outputs": [
    {
     "name": "stdout",
     "output_type": "stream",
     "text": [
      "Oldest movie:  1895-01-01 00:00:00\n",
      "Latest movie:  2019-01-01 00:00:00\n"
     ]
    }
   ],
   "source": [
    "oldest_movie = subset['Release_Date'].min()\n",
    "latest_movie = subset['Release_Date'].max()\n",
    "\n",
    "print('Oldest movie: ', oldest_movie)\n",
    "print('Latest movie: ', latest_movie)"
   ]
  },
  {
   "cell_type": "code",
   "execution_count": 29,
   "id": "995abc02",
   "metadata": {},
   "outputs": [
    {
     "data": {
      "image/png": "[encoded data removed]",
      "text/plain": [
       "<Figure size 640x480 with 1 Axes>"
      ]
     },
     "metadata": {},
     "output_type": "display_data"
    }
   ],
   "source": [
    "sns.histplot(data=subset, x=subset['Release_Date'].dt.year, kde=True, bins=50)\n",
    "plt.xlabel('Year')\n",
    "plt.ylabel('Count')\n",
    "plt.title('Distribution of Movies by Year')\n",
    "plt.show()"
   ]
  },
  {
   "cell_type": "markdown",
   "id": "be2b8000",
   "metadata": {},
   "source": [
    "## Building and training the model"
   ]
  },
  {
   "cell_type": "code",
   "execution_count": 71,
   "id": "3f39949a",
   "metadata": {},
   "outputs": [],
   "source": [
    "from surprise import Dataset, Reader"
   ]
  },
  {
   "cell_type": "code",
   "execution_count": 73,
   "id": "0f1dfc2c",
   "metadata": {},
   "outputs": [],
   "source": [
    "reader = Reader(rating_scale=(0.5, 5))\n",
    "dataset = Dataset.load_from_df(subset[['User_Id', 'Movie_Id', 'Rating']], reader)"
   ]
  },
  {
   "cell_type": "code",
   "execution_count": 74,
   "id": "654f8c8c",
   "metadata": {},
   "outputs": [],
   "source": [
    "#Split the dataset into training and testing sets\n",
    "from surprise.model_selection import train_test_split\n",
    "\n",
    "trainset, testset = train_test_split(dataset, test_size=0.3, random_state=42)"
   ]
  },
  {
   "cell_type": "code",
   "execution_count": 75,
   "id": "38876cf4",
   "metadata": {},
   "outputs": [
    {
     "data": {
      "text/html": [
       "<div>\n",
       "<style scoped>\n",
       "    .dataframe tbody tr th:only-of-type {\n",
       "        vertical-align: middle;\n",
       "    }\n",
       "\n",
       "    .dataframe tbody tr th {\n",
       "        vertical-align: top;\n",
       "    }\n",
       "\n",
       "    .dataframe thead th {\n",
       "        text-align: right;\n",
       "    }\n",
       "</style>\n",
       "<table border=\"1\" class=\"dataframe\">\n",
       "  <thead>\n",
       "    <tr style=\"text-align: right;\">\n",
       "      <th></th>\n",
       "      <th>User ID</th>\n",
       "      <th>Movie_ID</th>\n",
       "      <th>Rating</th>\n",
       "    </tr>\n",
       "  </thead>\n",
       "  <tbody>\n",
       "    <tr>\n",
       "      <th>0</th>\n",
       "      <td>0</td>\n",
       "      <td>0</td>\n",
       "      <td>4.0</td>\n",
       "    </tr>\n",
       "    <tr>\n",
       "      <th>1</th>\n",
       "      <td>0</td>\n",
       "      <td>580</td>\n",
       "      <td>5.0</td>\n",
       "    </tr>\n",
       "    <tr>\n",
       "      <th>2</th>\n",
       "      <td>0</td>\n",
       "      <td>1007</td>\n",
       "      <td>5.0</td>\n",
       "    </tr>\n",
       "    <tr>\n",
       "      <th>3</th>\n",
       "      <td>0</td>\n",
       "      <td>583</td>\n",
       "      <td>5.0</td>\n",
       "    </tr>\n",
       "    <tr>\n",
       "      <th>4</th>\n",
       "      <td>0</td>\n",
       "      <td>1184</td>\n",
       "      <td>4.0</td>\n",
       "    </tr>\n",
       "    <tr>\n",
       "      <th>5</th>\n",
       "      <td>0</td>\n",
       "      <td>6767</td>\n",
       "      <td>5.0</td>\n",
       "    </tr>\n",
       "    <tr>\n",
       "      <th>6</th>\n",
       "      <td>0</td>\n",
       "      <td>517</td>\n",
       "      <td>4.0</td>\n",
       "    </tr>\n",
       "    <tr>\n",
       "      <th>7</th>\n",
       "      <td>0</td>\n",
       "      <td>248</td>\n",
       "      <td>5.0</td>\n",
       "    </tr>\n",
       "    <tr>\n",
       "      <th>8</th>\n",
       "      <td>0</td>\n",
       "      <td>2189</td>\n",
       "      <td>4.0</td>\n",
       "    </tr>\n",
       "    <tr>\n",
       "      <th>9</th>\n",
       "      <td>0</td>\n",
       "      <td>1456</td>\n",
       "      <td>4.0</td>\n",
       "    </tr>\n",
       "  </tbody>\n",
       "</table>\n",
       "</div>"
      ],
      "text/plain": [
       "   User ID  Movie_ID  Rating\n",
       "0        0         0     4.0\n",
       "1        0       580     5.0\n",
       "2        0      1007     5.0\n",
       "3        0       583     5.0\n",
       "4        0      1184     4.0\n",
       "5        0      6767     5.0\n",
       "6        0       517     4.0\n",
       "7        0       248     5.0\n",
       "8        0      2189     4.0\n",
       "9        0      1456     4.0"
      ]
     },
     "execution_count": 75,
     "metadata": {},
     "output_type": "execute_result"
    }
   ],
   "source": [
    "train_ratings = [(user_id, item_id, rating) for (user_id, item_id, rating) in trainset.all_ratings()]\n",
    "train_df = pd.DataFrame(train_ratings, columns=[\"User ID\", \"Movie_ID\", \"Rating\"])\n",
    "train_df.head(10)"
   ]
  },
  {
   "cell_type": "code",
   "execution_count": 96,
   "id": "f98cfe00",
   "metadata": {},
   "outputs": [
    {
     "data": {
      "text/html": [
       "<div>\n",
       "<style scoped>\n",
       "    .dataframe tbody tr th:only-of-type {\n",
       "        vertical-align: middle;\n",
       "    }\n",
       "\n",
       "    .dataframe tbody tr th {\n",
       "        vertical-align: top;\n",
       "    }\n",
       "\n",
       "    .dataframe thead th {\n",
       "        text-align: right;\n",
       "    }\n",
       "</style>\n",
       "<table border=\"1\" class=\"dataframe\">\n",
       "  <thead>\n",
       "    <tr style=\"text-align: right;\">\n",
       "      <th></th>\n",
       "      <th>User ID</th>\n",
       "      <th>Movie_ID</th>\n",
       "      <th>Rating</th>\n",
       "    </tr>\n",
       "  </thead>\n",
       "  <tbody>\n",
       "    <tr>\n",
       "      <th>0</th>\n",
       "      <td>1156</td>\n",
       "      <td>957</td>\n",
       "      <td>4.0</td>\n",
       "    </tr>\n",
       "    <tr>\n",
       "      <th>1</th>\n",
       "      <td>3490</td>\n",
       "      <td>2135</td>\n",
       "      <td>3.5</td>\n",
       "    </tr>\n",
       "    <tr>\n",
       "      <th>2</th>\n",
       "      <td>6188</td>\n",
       "      <td>5012</td>\n",
       "      <td>3.0</td>\n",
       "    </tr>\n",
       "    <tr>\n",
       "      <th>3</th>\n",
       "      <td>378</td>\n",
       "      <td>398</td>\n",
       "      <td>3.5</td>\n",
       "    </tr>\n",
       "    <tr>\n",
       "      <th>4</th>\n",
       "      <td>2373</td>\n",
       "      <td>1820</td>\n",
       "      <td>5.0</td>\n",
       "    </tr>\n",
       "    <tr>\n",
       "      <th>5</th>\n",
       "      <td>3832</td>\n",
       "      <td>3449</td>\n",
       "      <td>2.0</td>\n",
       "    </tr>\n",
       "    <tr>\n",
       "      <th>6</th>\n",
       "      <td>2879</td>\n",
       "      <td>948</td>\n",
       "      <td>4.0</td>\n",
       "    </tr>\n",
       "    <tr>\n",
       "      <th>7</th>\n",
       "      <td>1205</td>\n",
       "      <td>79</td>\n",
       "      <td>5.0</td>\n",
       "    </tr>\n",
       "    <tr>\n",
       "      <th>8</th>\n",
       "      <td>6578</td>\n",
       "      <td>2172</td>\n",
       "      <td>4.0</td>\n",
       "    </tr>\n",
       "    <tr>\n",
       "      <th>9</th>\n",
       "      <td>4212</td>\n",
       "      <td>2486</td>\n",
       "      <td>3.0</td>\n",
       "    </tr>\n",
       "  </tbody>\n",
       "</table>\n",
       "</div>"
      ],
      "text/plain": [
       "   User ID  Movie_ID  Rating\n",
       "0     1156       957     4.0\n",
       "1     3490      2135     3.5\n",
       "2     6188      5012     3.0\n",
       "3      378       398     3.5\n",
       "4     2373      1820     5.0\n",
       "5     3832      3449     2.0\n",
       "6     2879       948     4.0\n",
       "7     1205        79     5.0\n",
       "8     6578      2172     4.0\n",
       "9     4212      2486     3.0"
      ]
     },
     "execution_count": 96,
     "metadata": {},
     "output_type": "execute_result"
    }
   ],
   "source": [
    "test_ratings = [(user_id, item_id, rating) for (user_id, item_id, rating) in testset]\n",
    "test_df = pd.DataFrame(test_ratings, columns=[\"User ID\", \"Movie_ID\", \"Rating\"])\n",
    "test_df.head(10)"
   ]
  },
  {
   "cell_type": "code",
   "execution_count": null,
   "id": "12695ac2",
   "metadata": {},
   "outputs": [],
   "source": []
  },
  {
   "cell_type": "code",
   "execution_count": 89,
   "id": "fec86305",
   "metadata": {},
   "outputs": [
    {
     "data": {
      "text/plain": [
       "<surprise.prediction_algorithms.matrix_factorization.SVD at 0x17db8405d30>"
      ]
     },
     "execution_count": 89,
     "metadata": {},
     "output_type": "execute_result"
    }
   ],
   "source": [
    "# Build the rating matrix\n",
    "from surprise import SVD\n",
    "\n",
    "algo = SVD(n_factors=100, n_epochs=20, random_state=42)\n",
    "algo.fit(trainset)"
   ]
  },
  {
   "cell_type": "code",
   "execution_count": 90,
   "id": "410f1477",
   "metadata": {},
   "outputs": [],
   "source": [
    "# Predict ratings\n",
    "predictions = algo.test(testset)"
   ]
  },
  {
   "cell_type": "code",
   "execution_count": 91,
   "id": "2cc1763f",
   "metadata": {},
   "outputs": [
    {
     "name": "stdout",
     "output_type": "stream",
     "text": [
      "RMSE: 0.8483\n",
      "MAE:  0.6475\n"
     ]
    },
    {
     "data": {
      "text/plain": [
       "0.6474540702878174"
      ]
     },
     "execution_count": 91,
     "metadata": {},
     "output_type": "execute_result"
    }
   ],
   "source": [
    "# Evaluate the model\n",
    "from surprise import accuracy\n",
    "\n",
    "accuracy.rmse(predictions)\n",
    "accuracy.mae(predictions)"
   ]
  },
  {
   "cell_type": "code",
   "execution_count": 80,
   "id": "f60a6239",
   "metadata": {},
   "outputs": [],
   "source": [
    "df_predictions = pd.DataFrame(predictions, columns=['User_Id', 'Movie_Name', 'actual_rating', 'predicted_rating', 'details'])\n",
    "df_predictions = df_predictions.drop('details', axis=1)"
   ]
  },
  {
   "cell_type": "code",
   "execution_count": 81,
   "id": "f6a7d89f",
   "metadata": {
    "scrolled": true
   },
   "outputs": [
    {
     "data": {
      "text/html": [
       "<div>\n",
       "<style scoped>\n",
       "    .dataframe tbody tr th:only-of-type {\n",
       "        vertical-align: middle;\n",
       "    }\n",
       "\n",
       "    .dataframe tbody tr th {\n",
       "        vertical-align: top;\n",
       "    }\n",
       "\n",
       "    .dataframe thead th {\n",
       "        text-align: right;\n",
       "    }\n",
       "</style>\n",
       "<table border=\"1\" class=\"dataframe\">\n",
       "  <thead>\n",
       "    <tr style=\"text-align: right;\">\n",
       "      <th></th>\n",
       "      <th>User_Id</th>\n",
       "      <th>Movie_Name</th>\n",
       "      <th>actual_rating</th>\n",
       "      <th>predicted_rating</th>\n",
       "    </tr>\n",
       "  </thead>\n",
       "  <tbody>\n",
       "    <tr>\n",
       "      <th>0</th>\n",
       "      <td>1156</td>\n",
       "      <td>957</td>\n",
       "      <td>4.0</td>\n",
       "      <td>3.995050</td>\n",
       "    </tr>\n",
       "    <tr>\n",
       "      <th>1</th>\n",
       "      <td>3490</td>\n",
       "      <td>2135</td>\n",
       "      <td>3.5</td>\n",
       "      <td>4.216010</td>\n",
       "    </tr>\n",
       "    <tr>\n",
       "      <th>2</th>\n",
       "      <td>6188</td>\n",
       "      <td>5012</td>\n",
       "      <td>3.0</td>\n",
       "      <td>1.774854</td>\n",
       "    </tr>\n",
       "    <tr>\n",
       "      <th>3</th>\n",
       "      <td>378</td>\n",
       "      <td>398</td>\n",
       "      <td>3.5</td>\n",
       "      <td>2.902698</td>\n",
       "    </tr>\n",
       "    <tr>\n",
       "      <th>4</th>\n",
       "      <td>2373</td>\n",
       "      <td>1820</td>\n",
       "      <td>5.0</td>\n",
       "      <td>3.957108</td>\n",
       "    </tr>\n",
       "    <tr>\n",
       "      <th>5</th>\n",
       "      <td>3832</td>\n",
       "      <td>3449</td>\n",
       "      <td>2.0</td>\n",
       "      <td>3.002170</td>\n",
       "    </tr>\n",
       "    <tr>\n",
       "      <th>6</th>\n",
       "      <td>2879</td>\n",
       "      <td>948</td>\n",
       "      <td>4.0</td>\n",
       "      <td>3.884445</td>\n",
       "    </tr>\n",
       "    <tr>\n",
       "      <th>7</th>\n",
       "      <td>1205</td>\n",
       "      <td>79</td>\n",
       "      <td>5.0</td>\n",
       "      <td>4.864038</td>\n",
       "    </tr>\n",
       "    <tr>\n",
       "      <th>8</th>\n",
       "      <td>6578</td>\n",
       "      <td>2172</td>\n",
       "      <td>4.0</td>\n",
       "      <td>3.644616</td>\n",
       "    </tr>\n",
       "    <tr>\n",
       "      <th>9</th>\n",
       "      <td>4212</td>\n",
       "      <td>2486</td>\n",
       "      <td>3.0</td>\n",
       "      <td>3.040738</td>\n",
       "    </tr>\n",
       "  </tbody>\n",
       "</table>\n",
       "</div>"
      ],
      "text/plain": [
       "   User_Id  Movie_Name  actual_rating  predicted_rating\n",
       "0     1156         957            4.0          3.995050\n",
       "1     3490        2135            3.5          4.216010\n",
       "2     6188        5012            3.0          1.774854\n",
       "3      378         398            3.5          2.902698\n",
       "4     2373        1820            5.0          3.957108\n",
       "5     3832        3449            2.0          3.002170\n",
       "6     2879         948            4.0          3.884445\n",
       "7     1205          79            5.0          4.864038\n",
       "8     6578        2172            4.0          3.644616\n",
       "9     4212        2486            3.0          3.040738"
      ]
     },
     "execution_count": 81,
     "metadata": {},
     "output_type": "execute_result"
    }
   ],
   "source": [
    "df_predictions.head(10)"
   ]
  },
  {
   "cell_type": "markdown",
   "id": "e1adc2f1",
   "metadata": {},
   "source": [
    "## Recommending Movies to a User"
   ]
  },
  {
   "cell_type": "code",
   "execution_count": 95,
   "id": "081fd7bb",
   "metadata": {},
   "outputs": [
    {
     "name": "stdout",
     "output_type": "stream",
     "text": [
      "Top 10 recommended movies for user 1:\n",
      "Battle of Algiers, The (La battaglia di Algeri) (1966) (predicted rating: 3.45)\n",
      "Slipstream (2007) (predicted rating: 3.45)\n",
      "Women (1965) (predicted rating: 3.45)\n",
      "Asterix at the Olympic Games (Astérix aux jeux olympiques) (2008) (predicted rating: 3.45)\n",
      "Evilspeak (1981) (predicted rating: 3.45)\n",
      "Galaxy Hunter (2004) (predicted rating: 3.45)\n",
      "Tracker, The (2002) (predicted rating: 3.45)\n",
      "Into the Storm (2014) (predicted rating: 3.45)\n",
      "Million Dollar Duck, The (a.k.a. $1,000,000 Duck) (1971) (predicted rating: 3.45)\n",
      "Sons and Lovers (1960) (predicted rating: 3.45)\n"
     ]
    }
   ],
   "source": [
    "import random\n",
    "\n",
    "# Recommend top movies for a user\n",
    "user_id = 1 # Example user ID\n",
    "movies = data['Movie_Name'].unique()  # Get all unique movie names\n",
    "\n",
    "# Create a list of tuples (movie name, predicted rating) for the given user\n",
    "user_ratings = [(movie, algo.predict(user_id, movie).est) for movie in movies]\n",
    "\n",
    "# Shuffle the list of recommended movies\n",
    "random.shuffle(user_ratings)\n",
    "\n",
    "# Sort the list by predicted rating in descending order\n",
    "user_ratings.sort(key=lambda x: x[1], reverse=True)\n",
    "\n",
    "# Print top 10 recommended movies for the user\n",
    "print(f\"Top 10 recommended movies for user {user_id}:\")\n",
    "for i, (movie, rating) in enumerate(user_ratings):\n",
    "    if i >= 10:\n",
    "        break\n",
    "    print(f\"{movie} (predicted rating: {rating:.2f})\")"
   ]
  },
  {
   "cell_type": "markdown",
   "id": "78e37865",
   "metadata": {},
   "source": [
    "### Save the model"
   ]
  },
  {
   "cell_type": "code",
   "execution_count": 34,
   "id": "dc4e8322",
   "metadata": {},
   "outputs": [],
   "source": [
    "import pickle\n",
    "\n",
    "# Save the model to a file\n",
    "with open('model.pkl', 'wb') as file:\n",
    "    pickle.dump(algo, file)"
   ]
  },
  {
   "cell_type": "code",
   "execution_count": null,
   "id": "263490df",
   "metadata": {},
   "outputs": [],
   "source": []
  },
  {
   "cell_type": "code",
   "execution_count": null,
   "id": "b6a4a55b",
   "metadata": {},
   "outputs": [],
   "source": []
  },
  {
   "cell_type": "code",
   "execution_count": null,
   "id": "20fe61b1",
   "metadata": {},
   "outputs": [],
   "source": []
  },
  {
   "cell_type": "code",
   "execution_count": null,
   "id": "e11a97cc",
   "metadata": {},
   "outputs": [],
   "source": []
  },
  {
   "cell_type": "code",
   "execution_count": null,
   "id": "8e3cb0d5",
   "metadata": {},
   "outputs": [],
   "source": []
  },
  {
   "cell_type": "code",
   "execution_count": null,
   "id": "3e8935cf",
   "metadata": {},
   "outputs": [],
   "source": []
  },
  {
   "cell_type": "code",
   "execution_count": null,
   "id": "39646701",
   "metadata": {},
   "outputs": [],
   "source": []
  },
  {
   "cell_type": "code",
   "execution_count": 35,
   "id": "c0466f69",
   "metadata": {},
   "outputs": [],
   "source": [
    "#Load the data"
   ]
  },
  {
   "cell_type": "markdown",
   "id": "d6d92234",
   "metadata": {},
   "source": [
    "import pickle\n",
    "# Load the saved model from file\n",
    "with open('model.pkl', 'rb') as file:\n",
    "    model = pickle.load(file)"
   ]
  },
  {
   "cell_type": "markdown",
   "id": "f5d39617",
   "metadata": {},
   "source": [
    "# Make predictions on the new dataset\n",
    "predictions = []\n",
    "for index, row in df.iterrows():\n",
    "    uid = str(row['User_Id'])\n",
    "    mid = row['Movie_Name']\n",
    "    pred = model.predict(uid, mid)\n",
    "    predictions.append(pred)"
   ]
  },
  {
   "cell_type": "markdown",
   "id": "1b8435ec",
   "metadata": {},
   "source": [
    "# Convert predictions to a dataframe\n",
    "df_predictions = pd.DataFrame(predictions, columns=['uid', 'mid', 'Rating', 'predicted_rating', 'details'])"
   ]
  },
  {
   "cell_type": "markdown",
   "id": "0ddfaac6",
   "metadata": {},
   "source": [
    "df_predictions.head(10)"
   ]
  }
 ],
 "metadata": {
  "kernelspec": {
   "display_name": "Python 3 (ipykernel)",
   "language": "python",
   "name": "python3"
  },
  "language_info": {
   "codemirror_mode": {
    "name": "ipython",
    "version": 3
   },
   "file_extension": ".py",
   "mimetype": "text/x-python",
   "name": "python",
   "nbconvert_exporter": "python",
   "pygments_lexer": "ipython3",
   "version": "3.9.13"
  }
 },
 "nbformat": 4,
 "nbformat_minor": 5
}
